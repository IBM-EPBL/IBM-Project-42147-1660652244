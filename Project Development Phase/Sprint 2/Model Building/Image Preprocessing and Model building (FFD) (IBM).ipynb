{
 "cells": [
  {
   "cell_type": "markdown",
   "metadata": {},
   "source": [
    "## Creating and training the CNN model "
   ]
  },
  {
   "cell_type": "markdown",
   "metadata": {},
   "source": [
    "### Import the libraries"
   ]
  },
  {
   "cell_type": "code",
   "execution_count": 1,
   "metadata": {},
   "outputs": [],
   "source": [
    "import keras\n",
    "from tensorflow.keras.models import Sequential\n",
    "from tensorflow.keras.layers import Dense\n",
    "from matplotlib import pyplot as plt"
   ]
  },
  {
   "cell_type": "markdown",
   "metadata": {},
   "source": [
    "# Importing ImageDataGenerator from Keras"
   ]
  },
  {
   "cell_type": "code",
   "execution_count": 2,
   "metadata": {},
   "outputs": [],
   "source": [
    "# image preprocessing (or) image augmentation\n",
    "from tensorflow.keras.preprocessing.image import ImageDataGenerator"
   ]
  },
  {
   "cell_type": "code",
   "execution_count": 3,
   "metadata": {},
   "outputs": [],
   "source": [
    "#import the cnn layers"
   ]
  },
  {
   "cell_type": "markdown",
   "metadata": {},
   "source": [
    "# Defining the Parameters"
   ]
  },
  {
   "cell_type": "code",
   "execution_count": 4,
   "metadata": {},
   "outputs": [],
   "source": [
    "train_datagen = ImageDataGenerator(rescale=1./255,shear_range=0.2,zoom_range=0.2,horizontal_flip=True,vertical_flip=True)\n",
    "#rescale => rescaling pixel value from 0 to 255 to 0 to 1\n",
    "#shear_range=> counter clock wise rotation(anti clock)"
   ]
  },
  {
   "cell_type": "code",
   "execution_count": 5,
   "metadata": {},
   "outputs": [],
   "source": [
    "test_datagen = ImageDataGenerator(rescale=1./255)"
   ]
  },
  {
   "cell_type": "markdown",
   "metadata": {},
   "source": [
    "# Applying ImageDataGenerator functionality to train dataset"
   ]
  },
  {
   "cell_type": "code",
   "execution_count": 6,
   "metadata": {},
   "outputs": [
    {
     "name": "stdout",
     "output_type": "stream",
     "text": [
      "Found 436 images belonging to 2 classes.\n"
     ]
    }
   ],
   "source": [
    "x_train = train_datagen.flow_from_directory(r\"D:\\FFDDataset\\train_set\",\n",
    "                                            target_size=(256,256),\n",
    "                                            batch_size=32,\n",
    "                                            class_mode=\"binary\")"
   ]
  },
  {
   "cell_type": "markdown",
   "metadata": {},
   "source": [
    "# Applying ImageDataGenerator functionality to test dataset"
   ]
  },
  {
   "cell_type": "code",
   "execution_count": 7,
   "metadata": {},
   "outputs": [
    {
     "name": "stdout",
     "output_type": "stream",
     "text": [
      "Found 121 images belonging to 2 classes.\n"
     ]
    }
   ],
   "source": [
    "x_test = test_datagen.flow_from_directory(r\"D:\\FFDDataset\\test_set\",\n",
    "                                          target_size=(256,256),\n",
    "                                          batch_size=32,\n",
    "                                          class_mode=\"binary\")"
   ]
  },
  {
   "cell_type": "markdown",
   "metadata": {},
   "source": [
    "# Importing Model Building Libraries"
   ]
  },
  {
   "cell_type": "code",
   "execution_count": 8,
   "metadata": {},
   "outputs": [],
   "source": [
    "from tensorflow.keras.layers import Convolution2D\n",
    "from tensorflow.keras.layers import MaxPooling2D\n",
    "from tensorflow.keras.layers import Flatten\n",
    "from tensorflow.keras.optimizers import Adam , SGD, RMSprop"
   ]
  },
  {
   "cell_type": "code",
   "execution_count": 9,
   "metadata": {},
   "outputs": [
    {
     "data": {
      "text/plain": [
       "{'forest': 0, 'with fire': 1}"
      ]
     },
     "execution_count": 9,
     "metadata": {},
     "output_type": "execute_result"
    }
   ],
   "source": [
    "x_train.class_indices"
   ]
  },
  {
   "cell_type": "markdown",
   "metadata": {},
   "source": [
    "# Intializing the model"
   ]
  },
  {
   "cell_type": "code",
   "execution_count": 10,
   "metadata": {},
   "outputs": [],
   "source": [
    "model = Sequential()"
   ]
  },
  {
   "cell_type": "markdown",
   "metadata": {},
   "source": [
    "# Adding CNN layers"
   ]
  },
  {
   "cell_type": "code",
   "execution_count": 11,
   "metadata": {},
   "outputs": [],
   "source": [
    "# add convolution layer"
   ]
  },
  {
   "cell_type": "code",
   "execution_count": 13,
   "metadata": {},
   "outputs": [],
   "source": [
    "model.add(Convolution2D(32,(3,3),input_shape=(256,256,3),activation=\"relu\"))\n",
    "# 32 indicates => no of feature detectors\n",
    "#(3,3)=> kernel size (feature detector size)\n",
    "#add max pooling layer\n",
    "model.add(MaxPooling2D(pool_size=(2,2)))\n",
    "#add flatten layer => input to your ANN  \n",
    "model.add(Flatten())          "
   ]
  },
  {
   "cell_type": "markdown",
   "metadata": {},
   "source": [
    "# Add Dense layers"
   ]
  },
  {
   "cell_type": "code",
   "execution_count": 14,
   "metadata": {},
   "outputs": [],
   "source": [
    "#hidden layer\n",
    "model.add(Dense(units=300,kernel_initializer=\"random_uniform\",activation=\"relu\"))\n",
    "model.add(Dense(units=200,kernel_initializer=\"random_uniform\",activation=\"relu\"))\n",
    "#output layer\n",
    "model.add(Dense(units=1,kernel_initializer=\"random_uniform\",activation=\"sigmoid\"))"
   ]
  },
  {
   "cell_type": "markdown",
   "metadata": {},
   "source": [
    "# Configuring the learning process"
   ]
  },
  {
   "cell_type": "code",
   "execution_count": 15,
   "metadata": {},
   "outputs": [],
   "source": [
    "#compile the model\n",
    "model.compile(loss=keras.losses.binary_crossentropy,optimizer=\"adam\",metrics=['accuracy'])"
   ]
  },
  {
   "cell_type": "markdown",
   "metadata": {},
   "source": [
    "# Summarize the model"
   ]
  },
  {
   "cell_type": "code",
   "execution_count": 16,
   "metadata": {},
   "outputs": [
    {
     "name": "stdout",
     "output_type": "stream",
     "text": [
      "Model: \"sequential\"\n",
      "_________________________________________________________________\n",
      " Layer (type)                Output Shape              Param #   \n",
      "=================================================================\n",
      " conv2d (Conv2D)             (None, 254, 254, 32)      896       \n",
      "                                                                 \n",
      " max_pooling2d (MaxPooling2D  (None, 127, 127, 32)     0         \n",
      " )                                                               \n",
      "                                                                 \n",
      " flatten (Flatten)           (None, 516128)            0         \n",
      "                                                                 \n",
      " dense (Dense)               (None, 300)               154838700 \n",
      "                                                                 \n",
      " dense_1 (Dense)             (None, 200)               60200     \n",
      "                                                                 \n",
      " dense_2 (Dense)             (None, 1)                 201       \n",
      "                                                                 \n",
      "=================================================================\n",
      "Total params: 154,899,997\n",
      "Trainable params: 154,899,997\n",
      "Non-trainable params: 0\n",
      "_________________________________________________________________\n"
     ]
    }
   ],
   "source": [
    "model.summary()"
   ]
  },
  {
   "cell_type": "markdown",
   "metadata": {},
   "source": [
    "# Training the model"
   ]
  },
  {
   "cell_type": "code",
   "execution_count": 17,
   "metadata": {},
   "outputs": [
    {
     "name": "stdout",
     "output_type": "stream",
     "text": [
      "Epoch 1/30\n",
      "13/13 [==============================] - 36s 2s/step - loss: 2.2809 - accuracy: 0.5965 - val_loss: 0.6385 - val_accuracy: 0.5938\n",
      "Epoch 2/30\n",
      "13/13 [==============================] - 53s 4s/step - loss: 0.4557 - accuracy: 0.7822 - val_loss: 0.1618 - val_accuracy: 0.9062\n",
      "Epoch 3/30\n",
      "13/13 [==============================] - 44s 3s/step - loss: 0.2581 - accuracy: 0.8762 - val_loss: 0.0857 - val_accuracy: 0.9688\n",
      "Epoch 4/30\n",
      "13/13 [==============================] - 28s 2s/step - loss: 0.2146 - accuracy: 0.9059 - val_loss: 0.1209 - val_accuracy: 0.9688\n",
      "Epoch 5/30\n",
      "13/13 [==============================] - 31s 2s/step - loss: 0.1683 - accuracy: 0.9332 - val_loss: 0.0789 - val_accuracy: 0.9688\n",
      "Epoch 6/30\n",
      "13/13 [==============================] - 34s 3s/step - loss: 0.1468 - accuracy: 0.9381 - val_loss: 0.0531 - val_accuracy: 0.9896\n",
      "Epoch 7/30\n",
      "13/13 [==============================] - 35s 3s/step - loss: 0.1569 - accuracy: 0.9406 - val_loss: 0.1668 - val_accuracy: 0.9375\n",
      "Epoch 8/30\n",
      "13/13 [==============================] - 36s 3s/step - loss: 0.1830 - accuracy: 0.9158 - val_loss: 0.0514 - val_accuracy: 0.9896\n",
      "Epoch 9/30\n",
      "13/13 [==============================] - 32s 2s/step - loss: 0.1455 - accuracy: 0.9356 - val_loss: 0.0378 - val_accuracy: 0.9896\n",
      "Epoch 10/30\n",
      "13/13 [==============================] - 34s 3s/step - loss: 0.1761 - accuracy: 0.9307 - val_loss: 0.0352 - val_accuracy: 1.0000\n",
      "Epoch 11/30\n",
      "13/13 [==============================] - 35s 3s/step - loss: 0.1391 - accuracy: 0.9530 - val_loss: 0.0413 - val_accuracy: 0.9896\n",
      "Epoch 12/30\n",
      "13/13 [==============================] - 37s 3s/step - loss: 0.1264 - accuracy: 0.9505 - val_loss: 0.0580 - val_accuracy: 0.9792\n",
      "Epoch 13/30\n",
      "13/13 [==============================] - 34s 3s/step - loss: 0.1306 - accuracy: 0.9406 - val_loss: 0.0191 - val_accuracy: 1.0000\n",
      "Epoch 14/30\n",
      "13/13 [==============================] - 35s 3s/step - loss: 0.1083 - accuracy: 0.9554 - val_loss: 0.0361 - val_accuracy: 0.9792\n",
      "Epoch 15/30\n",
      "13/13 [==============================] - 35s 3s/step - loss: 0.0869 - accuracy: 0.9678 - val_loss: 0.0203 - val_accuracy: 0.9896\n",
      "Epoch 16/30\n",
      "13/13 [==============================] - 31s 2s/step - loss: 0.1200 - accuracy: 0.9579 - val_loss: 0.0275 - val_accuracy: 0.9896\n",
      "Epoch 17/30\n",
      "13/13 [==============================] - 31s 2s/step - loss: 0.1556 - accuracy: 0.9233 - val_loss: 0.0402 - val_accuracy: 0.9896\n",
      "Epoch 18/30\n",
      "13/13 [==============================] - 33s 3s/step - loss: 0.1405 - accuracy: 0.9406 - val_loss: 0.0595 - val_accuracy: 0.9792\n",
      "Epoch 19/30\n",
      "13/13 [==============================] - 34s 3s/step - loss: 0.1334 - accuracy: 0.9356 - val_loss: 0.0559 - val_accuracy: 0.9896\n",
      "Epoch 20/30\n",
      "13/13 [==============================] - 33s 3s/step - loss: 0.1130 - accuracy: 0.9530 - val_loss: 0.0251 - val_accuracy: 0.9896\n",
      "Epoch 21/30\n",
      "13/13 [==============================] - 39s 3s/step - loss: 0.1073 - accuracy: 0.9406 - val_loss: 0.0313 - val_accuracy: 0.9896\n",
      "Epoch 22/30\n",
      "13/13 [==============================] - 29s 2s/step - loss: 0.1091 - accuracy: 0.9480 - val_loss: 0.0170 - val_accuracy: 1.0000\n",
      "Epoch 23/30\n",
      "13/13 [==============================] - 30s 2s/step - loss: 0.0939 - accuracy: 0.9567 - val_loss: 0.0128 - val_accuracy: 1.0000\n",
      "Epoch 24/30\n",
      "13/13 [==============================] - 29s 2s/step - loss: 0.0759 - accuracy: 0.9728 - val_loss: 0.0037 - val_accuracy: 1.0000\n",
      "Epoch 25/30\n",
      "13/13 [==============================] - 35s 3s/step - loss: 0.0758 - accuracy: 0.9777 - val_loss: 0.0118 - val_accuracy: 1.0000\n",
      "Epoch 26/30\n",
      "13/13 [==============================] - 34s 3s/step - loss: 0.0707 - accuracy: 0.9802 - val_loss: 0.0079 - val_accuracy: 1.0000\n",
      "Epoch 27/30\n",
      "13/13 [==============================] - 36s 3s/step - loss: 0.1081 - accuracy: 0.9480 - val_loss: 0.0235 - val_accuracy: 0.9896\n",
      "Epoch 28/30\n",
      "13/13 [==============================] - 35s 3s/step - loss: 0.0975 - accuracy: 0.9678 - val_loss: 0.0092 - val_accuracy: 1.0000\n",
      "Epoch 29/30\n",
      "13/13 [==============================] - 34s 3s/step - loss: 0.0746 - accuracy: 0.9752 - val_loss: 0.0072 - val_accuracy: 1.0000\n",
      "Epoch 30/30\n",
      "13/13 [==============================] - 35s 3s/step - loss: 0.0695 - accuracy: 0.9777 - val_loss: 0.0720 - val_accuracy: 0.9583\n"
     ]
    },
    {
     "data": {
      "text/plain": [
       "<keras.callbacks.History at 0x273163843d0>"
      ]
     },
     "execution_count": 17,
     "metadata": {},
     "output_type": "execute_result"
    }
   ],
   "source": [
    "model.fit(x_train,steps_per_epoch=13,epochs=30,validation_data=x_test,validation_steps=3)\n",
    "#steps_per_epoch = no of training images/batch size\n",
    "#validation_steps = no of testing images/batch size"
   ]
  },
  {
   "cell_type": "markdown",
   "metadata": {},
   "source": [
    "# Saving the model"
   ]
  },
  {
   "cell_type": "code",
   "execution_count": 18,
   "metadata": {},
   "outputs": [],
   "source": [
    "model.save(\"fire.h5\")"
   ]
  }
 ],
 "metadata": {
  "kernelspec": {
   "display_name": "Python 3 (ipykernel)",
   "language": "python",
   "name": "python3"
  },
  "language_info": {
   "codemirror_mode": {
    "name": "ipython",
    "version": 3
   },
   "file_extension": ".py",
   "mimetype": "text/x-python",
   "name": "python",
   "nbconvert_exporter": "python",
   "pygments_lexer": "ipython3",
   "version": "3.9.7"
  }
 },
 "nbformat": 4,
 "nbformat_minor": 2
}
