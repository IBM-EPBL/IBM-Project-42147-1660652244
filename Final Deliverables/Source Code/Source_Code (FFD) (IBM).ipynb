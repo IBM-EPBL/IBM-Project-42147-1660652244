{
 "cells": [
  {
   "cell_type": "markdown",
   "metadata": {},
   "source": [
    "## Creating and training the CNN model "
   ]
  },
  {
   "cell_type": "markdown",
   "metadata": {},
   "source": [
    "### Import the libraries"
   ]
  },
  {
   "cell_type": "code",
   "execution_count": 1,
   "metadata": {},
   "outputs": [],
   "source": [
    "import keras\n",
    "from tensorflow.keras.models import Sequential\n",
    "from tensorflow.keras.layers import Dense\n",
    "from matplotlib import pyplot as plt"
   ]
  },
  {
   "cell_type": "markdown",
   "metadata": {},
   "source": [
    "# Importing ImageDataGenerator from Keras"
   ]
  },
  {
   "cell_type": "code",
   "execution_count": 2,
   "metadata": {},
   "outputs": [],
   "source": [
    "# image preprocessing (or) image augmentation\n",
    "from tensorflow.keras.preprocessing.image import ImageDataGenerator"
   ]
  },
  {
   "cell_type": "code",
   "execution_count": 3,
   "metadata": {},
   "outputs": [],
   "source": [
    "#import the cnn layers"
   ]
  },
  {
   "cell_type": "markdown",
   "metadata": {},
   "source": [
    "# Defining the Parameters"
   ]
  },
  {
   "cell_type": "code",
   "execution_count": 4,
   "metadata": {},
   "outputs": [],
   "source": [
    "train_datagen = ImageDataGenerator(rescale=1./255,shear_range=0.2,zoom_range=0.2,horizontal_flip=True,vertical_flip=True)\n",
    "#rescale => rescaling pixel value from 0 to 255 to 0 to 1\n",
    "#shear_range=> counter clock wise rotation(anti clock)"
   ]
  },
  {
   "cell_type": "code",
   "execution_count": 5,
   "metadata": {},
   "outputs": [],
   "source": [
    "test_datagen = ImageDataGenerator(rescale=1./255)"
   ]
  },
  {
   "cell_type": "markdown",
   "metadata": {},
   "source": [
    "# Applying ImageDataGenerator functionality to train dataset"
   ]
  },
  {
   "cell_type": "code",
   "execution_count": 6,
   "metadata": {},
   "outputs": [
    {
     "name": "stdout",
     "output_type": "stream",
     "text": [
      "Found 436 images belonging to 2 classes.\n"
     ]
    }
   ],
   "source": [
    "x_train = train_datagen.flow_from_directory(r\"D:\\FFDDataset\\train_set\",\n",
    "                                            target_size=(256,256),\n",
    "                                            batch_size=32,\n",
    "                                            class_mode=\"binary\")"
   ]
  },
  {
   "cell_type": "markdown",
   "metadata": {},
   "source": [
    "# Applying ImageDataGenerator functionality to test dataset"
   ]
  },
  {
   "cell_type": "code",
   "execution_count": 7,
   "metadata": {},
   "outputs": [
    {
     "name": "stdout",
     "output_type": "stream",
     "text": [
      "Found 121 images belonging to 2 classes.\n"
     ]
    }
   ],
   "source": [
    "x_test = test_datagen.flow_from_directory(r\"D:\\FFDDataset\\test_set\",\n",
    "                                          target_size=(256,256),\n",
    "                                          batch_size=32,\n",
    "                                          class_mode=\"binary\")"
   ]
  },
  {
   "cell_type": "markdown",
   "metadata": {},
   "source": [
    "# Importing Model Building Libraries"
   ]
  },
  {
   "cell_type": "code",
   "execution_count": 8,
   "metadata": {},
   "outputs": [],
   "source": [
    "from tensorflow.keras.layers import Convolution2D\n",
    "from tensorflow.keras.layers import MaxPooling2D\n",
    "from tensorflow.keras.layers import Flatten\n",
    "from tensorflow.keras.optimizers import Adam , SGD, RMSprop"
   ]
  },
  {
   "cell_type": "code",
   "execution_count": 9,
   "metadata": {},
   "outputs": [
    {
     "data": {
      "text/plain": [
       "{'forest': 0, 'with fire': 1}"
      ]
     },
     "execution_count": 9,
     "metadata": {},
     "output_type": "execute_result"
    }
   ],
   "source": [
    "x_train.class_indices"
   ]
  },
  {
   "cell_type": "markdown",
   "metadata": {},
   "source": [
    "# Intializing the model"
   ]
  },
  {
   "cell_type": "code",
   "execution_count": 10,
   "metadata": {},
   "outputs": [],
   "source": [
    "model = Sequential()"
   ]
  },
  {
   "cell_type": "markdown",
   "metadata": {},
   "source": [
    "# Adding CNN layers"
   ]
  },
  {
   "cell_type": "code",
   "execution_count": 11,
   "metadata": {},
   "outputs": [],
   "source": [
    "# add convolution layer"
   ]
  },
  {
   "cell_type": "code",
   "execution_count": 12,
   "metadata": {},
   "outputs": [],
   "source": [
    "model.add(Convolution2D(32,(3,3),input_shape=(256,256,3),activation=\"relu\"))\n",
    "# 32 indicates => no of feature detectors\n",
    "#(3,3)=> kernel size (feature detector size)\n",
    "#add max pooling layer\n",
    "model.add(MaxPooling2D(pool_size=(2,2)))\n",
    "#add flatten layer => input to your ANN  \n",
    "model.add(Flatten())          "
   ]
  },
  {
   "cell_type": "markdown",
   "metadata": {},
   "source": [
    "# Add Dense layers"
   ]
  },
  {
   "cell_type": "code",
   "execution_count": 13,
   "metadata": {},
   "outputs": [],
   "source": [
    "#hidden layer\n",
    "model.add(Dense(units=300,kernel_initializer=\"random_uniform\",activation=\"relu\"))\n",
    "model.add(Dense(units=200,kernel_initializer=\"random_uniform\",activation=\"relu\"))\n",
    "#output layer\n",
    "model.add(Dense(units=1,kernel_initializer=\"random_uniform\",activation=\"sigmoid\"))"
   ]
  },
  {
   "cell_type": "markdown",
   "metadata": {},
   "source": [
    "# Configuring the learning process"
   ]
  },
  {
   "cell_type": "code",
   "execution_count": 14,
   "metadata": {},
   "outputs": [],
   "source": [
    "#compile the model\n",
    "model.compile(loss=keras.losses.binary_crossentropy,optimizer=\"adam\",metrics=['accuracy'])"
   ]
  },
  {
   "cell_type": "markdown",
   "metadata": {},
   "source": [
    "# Summarize the model"
   ]
  },
  {
   "cell_type": "code",
   "execution_count": 15,
   "metadata": {},
   "outputs": [
    {
     "name": "stdout",
     "output_type": "stream",
     "text": [
      "Model: \"sequential\"\n",
      "_________________________________________________________________\n",
      " Layer (type)                Output Shape              Param #   \n",
      "=================================================================\n",
      " conv2d (Conv2D)             (None, 254, 254, 32)      896       \n",
      "                                                                 \n",
      " max_pooling2d (MaxPooling2D  (None, 127, 127, 32)     0         \n",
      " )                                                               \n",
      "                                                                 \n",
      " flatten (Flatten)           (None, 516128)            0         \n",
      "                                                                 \n",
      " dense (Dense)               (None, 300)               154838700 \n",
      "                                                                 \n",
      " dense_1 (Dense)             (None, 200)               60200     \n",
      "                                                                 \n",
      " dense_2 (Dense)             (None, 1)                 201       \n",
      "                                                                 \n",
      "=================================================================\n",
      "Total params: 154,899,997\n",
      "Trainable params: 154,899,997\n",
      "Non-trainable params: 0\n",
      "_________________________________________________________________\n"
     ]
    }
   ],
   "source": [
    "model.summary()"
   ]
  },
  {
   "cell_type": "markdown",
   "metadata": {},
   "source": [
    "# Training the model"
   ]
  },
  {
   "cell_type": "code",
   "execution_count": 16,
   "metadata": {},
   "outputs": [
    {
     "name": "stdout",
     "output_type": "stream",
     "text": [
      "Epoch 1/30\n",
      "13/13 [==============================] - 48s 4s/step - loss: 1.1523 - accuracy: 0.7426 - val_loss: 0.1376 - val_accuracy: 0.9583\n",
      "Epoch 2/30\n",
      "13/13 [==============================] - 24s 2s/step - loss: 0.2809 - accuracy: 0.8861 - val_loss: 0.1445 - val_accuracy: 0.9167\n",
      "Epoch 3/30\n",
      "13/13 [==============================] - 22s 2s/step - loss: 0.2506 - accuracy: 0.9109 - val_loss: 0.0680 - val_accuracy: 0.9792\n",
      "Epoch 4/30\n",
      "13/13 [==============================] - 24s 2s/step - loss: 0.1443 - accuracy: 0.9381 - val_loss: 0.0736 - val_accuracy: 0.9688\n",
      "Epoch 5/30\n",
      "13/13 [==============================] - 22s 2s/step - loss: 0.2340 - accuracy: 0.9035 - val_loss: 0.0631 - val_accuracy: 0.9688\n",
      "Epoch 6/30\n",
      "13/13 [==============================] - 22s 2s/step - loss: 0.2004 - accuracy: 0.9109 - val_loss: 0.1092 - val_accuracy: 0.9688\n",
      "Epoch 7/30\n",
      "13/13 [==============================] - 23s 2s/step - loss: 0.1592 - accuracy: 0.9356 - val_loss: 0.0325 - val_accuracy: 0.9896\n",
      "Epoch 8/30\n",
      "13/13 [==============================] - 22s 2s/step - loss: 0.2069 - accuracy: 0.9059 - val_loss: 0.0429 - val_accuracy: 0.9896\n",
      "Epoch 9/30\n",
      "13/13 [==============================] - 24s 2s/step - loss: 0.1475 - accuracy: 0.9431 - val_loss: 0.0477 - val_accuracy: 0.9896\n",
      "Epoch 10/30\n",
      "13/13 [==============================] - 23s 2s/step - loss: 0.1452 - accuracy: 0.9282 - val_loss: 0.0224 - val_accuracy: 1.0000\n",
      "Epoch 11/30\n",
      "13/13 [==============================] - 22s 2s/step - loss: 0.1394 - accuracy: 0.9431 - val_loss: 0.0372 - val_accuracy: 0.9896\n",
      "Epoch 12/30\n",
      "13/13 [==============================] - 22s 2s/step - loss: 0.1239 - accuracy: 0.9455 - val_loss: 0.0325 - val_accuracy: 0.9792\n",
      "Epoch 13/30\n",
      "13/13 [==============================] - 24s 2s/step - loss: 0.1175 - accuracy: 0.9356 - val_loss: 0.0667 - val_accuracy: 0.9792\n",
      "Epoch 14/30\n",
      "13/13 [==============================] - 22s 2s/step - loss: 0.1407 - accuracy: 0.9406 - val_loss: 0.0289 - val_accuracy: 0.9792\n",
      "Epoch 15/30\n",
      "13/13 [==============================] - 23s 2s/step - loss: 0.1087 - accuracy: 0.9480 - val_loss: 0.0359 - val_accuracy: 0.9792\n",
      "Epoch 16/30\n",
      "13/13 [==============================] - 23s 2s/step - loss: 0.0877 - accuracy: 0.9653 - val_loss: 0.0205 - val_accuracy: 0.9896\n",
      "Epoch 17/30\n",
      "13/13 [==============================] - 22s 2s/step - loss: 0.0911 - accuracy: 0.9629 - val_loss: 0.1027 - val_accuracy: 0.9688\n",
      "Epoch 18/30\n",
      "13/13 [==============================] - 22s 2s/step - loss: 0.0911 - accuracy: 0.9579 - val_loss: 0.1393 - val_accuracy: 0.9583\n",
      "Epoch 19/30\n",
      "13/13 [==============================] - 22s 2s/step - loss: 0.1556 - accuracy: 0.9332 - val_loss: 0.0702 - val_accuracy: 0.9688\n",
      "Epoch 20/30\n",
      "13/13 [==============================] - 24s 2s/step - loss: 0.1851 - accuracy: 0.9257 - val_loss: 0.0375 - val_accuracy: 1.0000\n",
      "Epoch 21/30\n",
      "13/13 [==============================] - 23s 2s/step - loss: 0.1112 - accuracy: 0.9653 - val_loss: 0.0264 - val_accuracy: 1.0000\n",
      "Epoch 22/30\n",
      "13/13 [==============================] - 23s 2s/step - loss: 0.0827 - accuracy: 0.9703 - val_loss: 0.0416 - val_accuracy: 0.9792\n",
      "Epoch 23/30\n",
      "13/13 [==============================] - 22s 2s/step - loss: 0.1155 - accuracy: 0.9505 - val_loss: 0.0312 - val_accuracy: 0.9896\n",
      "Epoch 24/30\n",
      "13/13 [==============================] - 22s 2s/step - loss: 0.0849 - accuracy: 0.9728 - val_loss: 0.0384 - val_accuracy: 0.9792\n",
      "Epoch 25/30\n",
      "13/13 [==============================] - 22s 2s/step - loss: 0.0720 - accuracy: 0.9802 - val_loss: 0.0402 - val_accuracy: 0.9896\n",
      "Epoch 26/30\n",
      "13/13 [==============================] - 23s 2s/step - loss: 0.0834 - accuracy: 0.9629 - val_loss: 0.2156 - val_accuracy: 0.9375\n",
      "Epoch 27/30\n",
      "13/13 [==============================] - 22s 2s/step - loss: 0.1412 - accuracy: 0.9505 - val_loss: 0.0770 - val_accuracy: 0.9688\n",
      "Epoch 28/30\n",
      "13/13 [==============================] - 23s 2s/step - loss: 0.0808 - accuracy: 0.9728 - val_loss: 0.0054 - val_accuracy: 1.0000\n",
      "Epoch 29/30\n",
      "13/13 [==============================] - 22s 2s/step - loss: 0.0664 - accuracy: 0.9802 - val_loss: 0.0221 - val_accuracy: 0.9896\n",
      "Epoch 30/30\n",
      "13/13 [==============================] - 23s 2s/step - loss: 0.0654 - accuracy: 0.9703 - val_loss: 0.0026 - val_accuracy: 1.0000\n"
     ]
    },
    {
     "data": {
      "text/plain": [
       "<keras.callbacks.History at 0x1a4c2208310>"
      ]
     },
     "execution_count": 16,
     "metadata": {},
     "output_type": "execute_result"
    }
   ],
   "source": [
    "model.fit(x_train,steps_per_epoch=13,epochs=30,validation_data=x_test,validation_steps=3)\n",
    "#steps_per_epoch = no of training images/batch size\n",
    "#validation_steps = no of testing images/batch size"
   ]
  },
  {
   "cell_type": "markdown",
   "metadata": {},
   "source": [
    "# Saving the model"
   ]
  },
  {
   "cell_type": "code",
   "execution_count": 17,
   "metadata": {},
   "outputs": [],
   "source": [
    "model.save(\"fire.h5\")"
   ]
  },
  {
   "cell_type": "markdown",
   "metadata": {},
   "source": [
    "# Predicitions"
   ]
  },
  {
   "cell_type": "code",
   "execution_count": 21,
   "metadata": {},
   "outputs": [],
   "source": [
    "#import load model from keras.model\n",
    "from keras.models import load_model\n",
    "#import image from keras\n",
    "from tensorflow.keras.preprocessing import image\n",
    "import numpy as np\n",
    "#import cv2\n",
    "import cv2\n",
    "#load the saved model\n",
    "model=load_model(\"fire.h5\")\n",
    "img=image.load_img(r\"C:\\Users\\Isha\\Pictures\\Saved Pictures\\egfire.jpg\")\n",
    "x=image.img_to_array(img)\n",
    "res=cv2.resize(x,dsize=(256,256),interpolation=cv2.INTER_CUBIC)\n",
    "#expand the image shape\n",
    "x=np.expand_dims(res,axis=0)"
   ]
  },
  {
   "cell_type": "code",
   "execution_count": 22,
   "metadata": {},
   "outputs": [
    {
     "name": "stdout",
     "output_type": "stream",
     "text": [
      "1/1 [==============================] - 1s 874ms/step\n",
      "1\n"
     ]
    }
   ],
   "source": [
    "pred=model.predict(x)\n",
    "pred = int(pred[0][0])\n",
    "print(pred)"
   ]
  },
  {
   "cell_type": "code",
   "execution_count": null,
   "metadata": {},
   "outputs": [],
   "source": [
    "#loading the saved model\n",
    "model = load_model(\"fire.h5\")"
   ]
  },
  {
   "cell_type": "code",
   "execution_count": 40,
   "metadata": {},
   "outputs": [
    {
     "name": "stdout",
     "output_type": "stream",
     "text": [
      "Forest fire\n"
     ]
    }
   ],
   "source": [
    "if pred==1:\n",
    "    print('Forest fire')\n",
    "else:\n",
    "    print('No Fire')"
   ]
  },
  {
   "cell_type": "markdown",
   "metadata": {},
   "source": [
    "# OpenCV for Video Processing"
   ]
  },
  {
   "cell_type": "code",
   "execution_count": 25,
   "metadata": {},
   "outputs": [],
   "source": [
    "import cv2\n",
    "import numpy as np\n",
    "# importing image function from keras\n",
    "from keras.preprocessing import image\n",
    "# importing load_model from keras \n",
    "from keras.models import load_model\n",
    "#importing client from twilio API\n",
    "from twilio.rest import Client\n",
    "#importing playsound package from playsound\n",
    "import playsound"
   ]
  },
  {
   "cell_type": "code",
   "execution_count": 42,
   "metadata": {},
   "outputs": [],
   "source": [
    "#define video\n",
    "video = cv2.VideoCapture(0)\n",
    "#defining the features\n",
    "name = ['Forest','With fire']"
   ]
  },
  {
   "cell_type": "markdown",
   "metadata": {},
   "source": [
    "# Sending an alert message through Twilio"
   ]
  },
  {
   "cell_type": "code",
   "execution_count": 27,
   "metadata": {},
   "outputs": [
    {
     "name": "stdout",
     "output_type": "stream",
     "text": [
      "SMc3c7d993b225bced90e219dd7b077a4c\n",
      "Fire Detected\n",
      "Message Sent\n"
     ]
    }
   ],
   "source": [
    "if pred==1:\n",
    "    account_sid = 'AC9c9f37c5348766e642763aa6c4ca3de4'\n",
    "    auth_token = 'a713206b352a2634b272d9965f6e46c0'\n",
    "    \n",
    "    client = Client(account_sid, auth_token)\n",
    "    message = client.messages \\\n",
    "    .create(body= 'Alert! A Forest fire has been detected.',from_='+18314804693',to='+919498400638')\n",
    "    \n",
    "    print(message.sid)\n",
    "    print('Fire Detected')\n",
    "    print('Message Sent')"
   ]
  },
  {
   "cell_type": "code",
   "execution_count": 28,
   "metadata": {},
   "outputs": [],
   "source": [
    "from tensorflow.keras.models import load_model\n",
    "from tensorflow.keras.preprocessing import image"
   ]
  },
  {
   "cell_type": "code",
   "execution_count": 1,
   "metadata": {},
   "outputs": [
    {
     "data": {
      "text/plain": [
       "'\\nis_frame = True\\nwhile is_frame:\\n    is_frame,frame = video.read()\\n    if is_frame:\\n        cv2.imwrite(\"image.jpg\",frame)\\n        img = image.load_img(\"image.jpg\",target_size=(256,256))\\n        y = image.img_to_array(img)\\n        y = np.expand_dims(y,axis=0)\\n        class_name = [\"Forest\",\"With fire\"]\\n        pred_prob = model.predict(y)    \\n        pred_prob = int(pred_prob[0][0])\\n        cv2.imshow(\"Frame\", frame)\\n        if cv2.waitKey(25) & 0xFF == ord(\\'q\\'):\\n            break\\n        elif pred_prob == 1:\\n            print(pred_prob)\\n            print(\"predicted class is \",str(class_name[1]))\\n            cv2.putText(frame, \"Detected class is \" + str(class_name[1]), (10, 100),\\n\\t\\t\\t\\t\\tcv2.FONT_HERSHEY_SIMPLEX, 0.8, (255, 255, 255), 5)\\n            account_sid = \\'AC9c9f37c5348766e642763aa6c4ca3de4\\'\\n            auth_token = \\'a713206b352a2634b272d9965f6e46c0\\'\\n            client = Client(account_sid, auth_token)\\n            message = client.messages             .create(body= \\'Alert! A Forest fire has been detected.\\',from_=\\'+18314804693\\',to=\\'+919498400638\\')\\n            print(message.sid)\\n            print(\\'Fire Detected\\')\\n            print(\\'Message Sent\\')\\n        elif pred_prob == 0:\\n            print(pred_prob)\\n            print(\"predicted class is \",str(class_name[0]))\\n            cv2.putText(frame, \"Detected class is \" + str(class_name[0]), (10, 100),\\n\\t\\t\\t\\t\\tcv2.FONT_HERSHEY_SIMPLEX, 0.8, (255, 255, 255), 5)\\n            print(\"No Danger\")\\n        \\n    else:\\n        break\\ncv2.destroyAllWindows()\\nvideo.release()\\n'"
      ]
     },
     "execution_count": 1,
     "metadata": {},
     "output_type": "execute_result"
    }
   ],
   "source": [
    "#with live video capture\n",
    "\"\"\"\n",
    "is_frame = True\n",
    "while is_frame:\n",
    "    is_frame,frame = video.read()\n",
    "    if is_frame:\n",
    "        cv2.imwrite(\"image.jpg\",frame)\n",
    "        img = image.load_img(\"image.jpg\",target_size=(256,256))\n",
    "        y = image.img_to_array(img)\n",
    "        y = np.expand_dims(y,axis=0)\n",
    "        class_name = [\"Forest\",\"With fire\"]\n",
    "        pred_prob = model.predict(y)    \n",
    "        pred_prob = int(pred_prob[0][0])\n",
    "        cv2.imshow(\"Frame\", frame)\n",
    "        if cv2.waitKey(25) & 0xFF == ord('q'):\n",
    "            break\n",
    "        elif pred_prob == 1:\n",
    "            print(pred_prob)\n",
    "            print(\"predicted class is \",str(class_name[1]))\n",
    "            cv2.putText(frame, \"Detected class is \" + str(class_name[1]), (10, 100),\n",
    "\t\t\t\t\tcv2.FONT_HERSHEY_SIMPLEX, 0.8, (255, 255, 255), 5)\n",
    "            account_sid = 'AC9c9f37c5348766e642763aa6c4ca3de4'\n",
    "            auth_token = 'a713206b352a2634b272d9965f6e46c0'\n",
    "            client = Client(account_sid, auth_token)\n",
    "            message = client.messages \\\n",
    "            .create(body= 'Alert! A Forest fire has been detected.',from_='+18314804693',to='+919498400638')\n",
    "            print(message.sid)\n",
    "            print('Fire Detected')\n",
    "            print('Message Sent')\n",
    "        elif pred_prob == 0:\n",
    "            print(pred_prob)\n",
    "            print(\"predicted class is \",str(class_name[0]))\n",
    "            cv2.putText(frame, \"Detected class is \" + str(class_name[0]), (10, 100),\n",
    "\t\t\t\t\tcv2.FONT_HERSHEY_SIMPLEX, 0.8, (255, 255, 255), 5)\n",
    "            print(\"No Danger\")\n",
    "        \n",
    "    else:\n",
    "        break\n",
    "cv2.destroyAllWindows()\n",
    "video.release()\n",
    "\"\"\""
   ]
  },
  {
   "cell_type": "code",
   "execution_count": null,
   "metadata": {},
   "outputs": [],
   "source": []
  }
 ],
 "metadata": {
  "kernelspec": {
   "display_name": "Python 3 (ipykernel)",
   "language": "python",
   "name": "python3"
  },
  "language_info": {
   "codemirror_mode": {
    "name": "ipython",
    "version": 3
   },
   "file_extension": ".py",
   "mimetype": "text/x-python",
   "name": "python",
   "nbconvert_exporter": "python",
   "pygments_lexer": "ipython3",
   "version": "3.9.15"
  }
 },
 "nbformat": 4,
 "nbformat_minor": 2
}
