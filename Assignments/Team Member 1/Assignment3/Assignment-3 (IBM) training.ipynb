{
 "cells": [
  {
   "cell_type": "markdown",
   "metadata": {},
   "source": [
    "## Creating and training the CNN model "
   ]
  },
  {
   "cell_type": "markdown",
   "metadata": {},
   "source": [
    "### Import the libraries"
   ]
  },
  {
   "cell_type": "code",
   "execution_count": 1,
   "metadata": {},
   "outputs": [],
   "source": [
    "from tensorflow.keras.models import Sequential\n",
    "from tensorflow.keras.layers import Dense"
   ]
  },
  {
   "cell_type": "code",
   "execution_count": 2,
   "metadata": {},
   "outputs": [],
   "source": [
    "#import the cnn layers"
   ]
  },
  {
   "cell_type": "code",
   "execution_count": 3,
   "metadata": {},
   "outputs": [],
   "source": [
    "from tensorflow.keras.layers import Convolution2D\n",
    "from tensorflow.keras.layers import MaxPooling2D\n",
    "from tensorflow.keras.layers import Flatten\n",
    "from tensorflow.keras.optimizers import Adam , SGD, RMSprop"
   ]
  },
  {
   "cell_type": "code",
   "execution_count": 4,
   "metadata": {},
   "outputs": [],
   "source": [
    "#image preprocessing (or) image augmentation\n",
    "from tensorflow.keras.preprocessing.image import ImageDataGenerator"
   ]
  },
  {
   "cell_type": "code",
   "execution_count": 5,
   "metadata": {},
   "outputs": [],
   "source": [
    "train_datagen = ImageDataGenerator(rescale=1./255,shear_range=0.2,zoom_range=0.2,horizontal_flip=True,vertical_flip=True)\n",
    "#rescale => rescaling pixel value from 0 to 255 to 0 to 1\n",
    "#shear_range=> counter clock wise rotation(anti clock)"
   ]
  },
  {
   "cell_type": "code",
   "execution_count": 6,
   "metadata": {},
   "outputs": [],
   "source": [
    "test_datagen = ImageDataGenerator(rescale=1./255)"
   ]
  },
  {
   "cell_type": "code",
   "execution_count": 7,
   "metadata": {},
   "outputs": [
    {
     "name": "stdout",
     "output_type": "stream",
     "text": [
      "Found 3453 images belonging to 5 classes.\n"
     ]
    }
   ],
   "source": [
    "x_train = train_datagen.flow_from_directory(r\"D:\\FloDataset\\Training\",target_size=(256,256),batch_size=32,class_mode=\"categorical\")"
   ]
  },
  {
   "cell_type": "code",
   "execution_count": 8,
   "metadata": {},
   "outputs": [
    {
     "name": "stdout",
     "output_type": "stream",
     "text": [
      "Found 864 images belonging to 5 classes.\n"
     ]
    }
   ],
   "source": [
    "x_test = test_datagen.flow_from_directory(r\"D:\\FloDataset\\Testing\",target_size=(256,256),batch_size=32,class_mode=\"categorical\")"
   ]
  },
  {
   "cell_type": "code",
   "execution_count": 9,
   "metadata": {},
   "outputs": [
    {
     "data": {
      "text/plain": [
       "{'daisy': 0, 'dandelion': 1, 'rose': 2, 'sunflower': 3, 'tulip': 4}"
      ]
     },
     "execution_count": 9,
     "metadata": {},
     "output_type": "execute_result"
    }
   ],
   "source": [
    "x_train.class_indices"
   ]
  },
  {
   "cell_type": "code",
   "execution_count": 10,
   "metadata": {},
   "outputs": [],
   "source": [
    "model = Sequential()"
   ]
  },
  {
   "cell_type": "code",
   "execution_count": 11,
   "metadata": {},
   "outputs": [],
   "source": [
    "# add convolution layer"
   ]
  },
  {
   "cell_type": "code",
   "execution_count": 12,
   "metadata": {},
   "outputs": [],
   "source": [
    "model.add(Convolution2D(32,(3,3),input_shape=(256,256,3),activation=\"relu\"))\n",
    "# 32 indicates => no of feature detectors\n",
    "#(3,3)=> kernel size (feature detector size)"
   ]
  },
  {
   "cell_type": "code",
   "execution_count": 13,
   "metadata": {},
   "outputs": [],
   "source": [
    "#add max pooling layer"
   ]
  },
  {
   "cell_type": "code",
   "execution_count": 14,
   "metadata": {},
   "outputs": [],
   "source": [
    "model.add(MaxPooling2D(pool_size=(2,2)))"
   ]
  },
  {
   "cell_type": "code",
   "execution_count": 15,
   "metadata": {},
   "outputs": [],
   "source": [
    "#add flatten layer => input to your ANN"
   ]
  },
  {
   "cell_type": "code",
   "execution_count": 16,
   "metadata": {},
   "outputs": [],
   "source": [
    "model.add(Flatten())"
   ]
  },
  {
   "cell_type": "code",
   "execution_count": 17,
   "metadata": {},
   "outputs": [],
   "source": [
    "#hidden layer"
   ]
  },
  {
   "cell_type": "code",
   "execution_count": 18,
   "metadata": {},
   "outputs": [],
   "source": [
    "model.add(Dense(units=300,kernel_initializer=\"random_uniform\",activation=\"relu\"))"
   ]
  },
  {
   "cell_type": "code",
   "execution_count": 19,
   "metadata": {},
   "outputs": [],
   "source": [
    "model.add(Dense(units=200,kernel_initializer=\"random_uniform\",activation=\"relu\"))"
   ]
  },
  {
   "cell_type": "code",
   "execution_count": 20,
   "metadata": {},
   "outputs": [],
   "source": [
    "#output layer"
   ]
  },
  {
   "cell_type": "code",
   "execution_count": 21,
   "metadata": {},
   "outputs": [],
   "source": [
    "model.add(Dense(units=5,kernel_initializer=\"random_uniform\",activation=\"softmax\"))"
   ]
  },
  {
   "cell_type": "code",
   "execution_count": 22,
   "metadata": {},
   "outputs": [],
   "source": [
    "#compile the model\n",
    "model.compile(loss=\"categorical_crossentropy\",optimizer=\"k-fold\",metrics=['accuracy'])"
   ]
  },
  {
   "cell_type": "code",
   "execution_count": 23,
   "metadata": {},
   "outputs": [],
   "source": [
    "#train the model"
   ]
  },
  {
   "cell_type": "code",
   "execution_count": 24,
   "metadata": {},
   "outputs": [
    {
     "name": "stdout",
     "output_type": "stream",
     "text": [
      "Epoch 1/30\n",
      "108/108 [==============================] - 245s 2s/step - loss: 1.4251 - accuracy: 0.4561 - val_loss: 1.2866 - val_accuracy: 0.4595\n",
      "Epoch 2/30\n",
      "108/108 [==============================] - 113s 1s/step - loss: 1.0689 - accuracy: 0.5772 - val_loss: 1.1798 - val_accuracy: 0.5347\n",
      "Epoch 3/30\n",
      "108/108 [==============================] - 111s 1s/step - loss: 0.9937 - accuracy: 0.6114 - val_loss: 1.1525 - val_accuracy: 0.5544\n",
      "Epoch 4/30\n",
      "108/108 [==============================] - 123s 1s/step - loss: 0.9345 - accuracy: 0.6357 - val_loss: 1.1277 - val_accuracy: 0.5706\n",
      "Epoch 5/30\n",
      "108/108 [==============================] - 118s 1s/step - loss: 0.8895 - accuracy: 0.6580 - val_loss: 1.1157 - val_accuracy: 0.5475\n",
      "Epoch 6/30\n",
      "108/108 [==============================] - 113s 1s/step - loss: 0.8515 - accuracy: 0.6652 - val_loss: 1.1063 - val_accuracy: 0.5949\n",
      "Epoch 7/30\n",
      "108/108 [==============================] - 114s 1s/step - loss: 0.8314 - accuracy: 0.6800 - val_loss: 1.0843 - val_accuracy: 0.5845\n",
      "Epoch 8/30\n",
      "108/108 [==============================] - 109s 1s/step - loss: 0.7766 - accuracy: 0.7066 - val_loss: 1.1215 - val_accuracy: 0.5972\n",
      "Epoch 9/30\n",
      "108/108 [==============================] - 110s 1s/step - loss: 0.7598 - accuracy: 0.7081 - val_loss: 1.1831 - val_accuracy: 0.5995\n",
      "Epoch 10/30\n",
      "108/108 [==============================] - 110s 1s/step - loss: 0.7316 - accuracy: 0.7234 - val_loss: 1.1541 - val_accuracy: 0.6030\n",
      "Epoch 11/30\n",
      "108/108 [==============================] - 111s 1s/step - loss: 0.7084 - accuracy: 0.7252 - val_loss: 1.0526 - val_accuracy: 0.6204\n",
      "Epoch 12/30\n",
      "108/108 [==============================] - 112s 1s/step - loss: 0.6932 - accuracy: 0.7333 - val_loss: 1.1040 - val_accuracy: 0.6088\n",
      "Epoch 13/30\n",
      "108/108 [==============================] - 1584s 15s/step - loss: 0.6844 - accuracy: 0.7423 - val_loss: 1.2099 - val_accuracy: 0.5984\n",
      "Epoch 14/30\n",
      "108/108 [==============================] - 111s 1s/step - loss: 0.6457 - accuracy: 0.7591 - val_loss: 1.0903 - val_accuracy: 0.6100\n",
      "Epoch 15/30\n",
      "108/108 [==============================] - 112s 1s/step - loss: 0.6207 - accuracy: 0.7674 - val_loss: 1.0838 - val_accuracy: 0.6111\n",
      "Epoch 16/30\n",
      "108/108 [==============================] - 113s 1s/step - loss: 0.6000 - accuracy: 0.7764 - val_loss: 1.1577 - val_accuracy: 0.6123\n",
      "Epoch 17/30\n",
      "108/108 [==============================] - 115s 1s/step - loss: 0.5746 - accuracy: 0.7883 - val_loss: 1.1945 - val_accuracy: 0.5914\n",
      "Epoch 18/30\n",
      "108/108 [==============================] - 129s 1s/step - loss: 0.5633 - accuracy: 0.7866 - val_loss: 1.2393 - val_accuracy: 0.6076\n",
      "Epoch 19/30\n",
      "108/108 [==============================] - 126s 1s/step - loss: 0.5455 - accuracy: 0.7938 - val_loss: 1.2217 - val_accuracy: 0.6065\n",
      "Epoch 20/30\n",
      "108/108 [==============================] - 124s 1s/step - loss: 0.5274 - accuracy: 0.8034 - val_loss: 1.1938 - val_accuracy: 0.5775\n",
      "Epoch 21/30\n",
      "108/108 [==============================] - 124s 1s/step - loss: 0.5355 - accuracy: 0.8045 - val_loss: 1.3509 - val_accuracy: 0.5926\n",
      "Epoch 22/30\n",
      "108/108 [==============================] - 131s 1s/step - loss: 0.5166 - accuracy: 0.8031 - val_loss: 1.2607 - val_accuracy: 0.6076\n",
      "Epoch 23/30\n",
      "108/108 [==============================] - 124s 1s/step - loss: 0.5063 - accuracy: 0.8135 - val_loss: 1.4300 - val_accuracy: 0.5903\n",
      "Epoch 24/30\n",
      "108/108 [==============================] - 123s 1s/step - loss: 0.4655 - accuracy: 0.8199 - val_loss: 1.3341 - val_accuracy: 0.6088\n",
      "Epoch 25/30\n",
      "108/108 [==============================] - 114s 1s/step - loss: 0.4470 - accuracy: 0.8326 - val_loss: 1.2933 - val_accuracy: 0.6169\n",
      "Epoch 26/30\n",
      "108/108 [==============================] - 124s 1s/step - loss: 0.4396 - accuracy: 0.8445 - val_loss: 1.3952 - val_accuracy: 0.6157\n",
      "Epoch 27/30\n",
      "108/108 [==============================] - 122s 1s/step - loss: 0.4464 - accuracy: 0.8352 - val_loss: 1.3360 - val_accuracy: 0.5984\n",
      "Epoch 28/30\n",
      "108/108 [==============================] - 124s 1s/step - loss: 0.4496 - accuracy: 0.8381 - val_loss: 1.2784 - val_accuracy: 0.5938\n",
      "Epoch 29/30\n",
      "108/108 [==============================] - 123s 1s/step - loss: 0.4295 - accuracy: 0.8419 - val_loss: 1.7090 - val_accuracy: 0.5741\n",
      "Epoch 30/30\n",
      "108/108 [==============================] - 122s 1s/step - loss: 0.4027 - accuracy: 0.8549 - val_loss: 1.4663 - val_accuracy: 0.5949\n"
     ]
    },
    {
     "data": {
      "text/plain": [
       "<keras.callbacks.History at 0x222861085b0>"
      ]
     },
     "execution_count": 24,
     "metadata": {},
     "output_type": "execute_result"
    }
   ],
   "source": [
    "model.fit(x_train,steps_per_epoch=108,epochs=30,validation_data=x_test,validation_steps=27)\n",
    "#steps_per_epoch = no of training images/batch size\n",
    "#validation_steps = no of testing images/batch size"
   ]
  },
  {
   "cell_type": "code",
   "execution_count": 25,
   "metadata": {},
   "outputs": [],
   "source": [
    "model.save(\"flowerss.h5\")"
   ]
  }
 ],
 "metadata": {
  "kernelspec": {
   "display_name": "Python 3 (ipykernel)",
   "language": "python",
   "name": "python3"
  },
  "language_info": {
   "codemirror_mode": {
    "name": "ipython",
    "version": 3
   },
   "file_extension": ".py",
   "mimetype": "text/x-python",
   "name": "python",
   "nbconvert_exporter": "python",
   "pygments_lexer": "ipython3",
   "version": "3.9.7"
  }
 },
 "nbformat": 4,
 "nbformat_minor": 2
}
